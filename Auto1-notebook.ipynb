{
 "cells": [
  {
   "cell_type": "markdown",
   "metadata": {},
   "source": [
    "##  Auto1 data science challenge\n",
    "#### Question 1 (10 Points) List as many use cases for the dataset as possible.\n",
    "\n",
    "1. **Price recommendation:** Auto1 values and buys used cars from individuals, dealerships, and manufacturers, then sells them          for a profit to other dealerships/ Customers. **Price recommendation** feature will help Auto1 to determine, what must be right value/price of car based on car features. We can train machine learning model using given data, to help Auto1 predict **right price** for test/unseen data depending on features of the car.\n",
    "2. **Similar car recommendation:** Customers often want to see and compare similar cars. Using given data, we can recommend            **similar cars **  to the query/given car.  This will enhance user experience and user engagement.\n",
    "3. **Predict Fuel-efficiency:**  Predict **avg-mpg** where **avg-mpg** is the average of **city and highway mileage**. As a customer, When I am buying a used car, I want to be sure of car's health/efficiency apart from other things. **avg-mpg** is usually overstated by the car seller and must be believed with a pinch of salt.\n",
    "     \n",
    "     As a customer I would like **Auto1** run machine learning models and estimate this parameter(**avg-mpg**) for a used car.   **avg-mpg**  is also  one  of the indicators of healthy car.\n",
    "     \n",
    "     As a customer I want to know what my  car **avg-mpg** is going to be in a world where  petrol/disel rates go up everyday. It would be great help for the user         if we can predict the **avg-mpg** using  features of cars.\n",
    "4. **Symboling:** Predict symboling ***[ 3,  1,  2,  0, -1, -2]***  based on car feature."
   ]
  },
  {
   "cell_type": "markdown",
   "metadata": {},
   "source": [
    "#### By: Vijayendra"
   ]
  },
  {
   "cell_type": "markdown",
   "metadata": {},
   "source": [
    "## 1. Import statements & Data Understanding"
   ]
  },
  {
   "cell_type": "code",
   "execution_count": 1,
   "metadata": {},
   "outputs": [
    {
     "name": "stderr",
     "output_type": "stream",
     "text": [
      "c:\\users\\h213561\\appdata\\local\\continuum\\anaconda3\\lib\\site-packages\\sklearn\\ensemble\\weight_boosting.py:29: DeprecationWarning: numpy.core.umath_tests is an internal NumPy module and should not be imported. It will be removed in a future NumPy release.\n",
      "  from numpy.core.umath_tests import inner1d\n"
     ]
    }
   ],
   "source": [
    "#import statements\n",
    "import pandas as pd\n",
    "import numpy as np\n",
    "import math\n",
    "import scipy\n",
    "from scipy import stats\n",
    "import seaborn as sns\n",
    "import matplotlib.pyplot as plt\n",
    "\n",
    "from sklearn import ensemble\n",
    "from sklearn import linear_model, preprocessing\n",
    "from sklearn.preprocessing import LabelBinarizer\n",
    "from sklearn.preprocessing import Imputer\n",
    "from sklearn.preprocessing import StandardScaler\n",
    "from sklearn.linear_model import LinearRegression\n",
    "from sklearn.feature_selection import RFECV\n",
    "from sklearn.metrics import explained_variance_score \n",
    "from sklearn.metrics import mean_absolute_error \n",
    "from sklearn.metrics import mean_squared_error\n",
    "from sklearn.metrics import mean_squared_log_error\n",
    "from sklearn.metrics import median_absolute_error\n",
    "from sklearn.metrics import r2_score\n",
    "from sklearn.model_selection import GridSearchCV, train_test_split\n",
    "from sklearn import feature_selection\n",
    "from sklearn.ensemble import ExtraTreesRegressor\n",
    "from sklearn.pipeline import Pipeline\n",
    "\n",
    "%matplotlib inline\n"
   ]
  },
  {
   "cell_type": "code",
   "execution_count": 2,
   "metadata": {},
   "outputs": [
    {
     "name": "stdout",
     "output_type": "stream",
     "text": [
      "shape of dataDF (205, 26)\n",
      "\n",
      "\n",
      "<class 'pandas.core.frame.DataFrame'>\n",
      "RangeIndex: 205 entries, 0 to 204\n",
      "Data columns (total 26 columns):\n",
      "symboling            205 non-null int64\n",
      "normalized-losses    205 non-null object\n",
      "make                 205 non-null object\n",
      "fuel-type            205 non-null object\n",
      "aspiration           205 non-null object\n",
      "num-of-doors         205 non-null object\n",
      "body-style           205 non-null object\n",
      "drive-wheels         205 non-null object\n",
      "engine-location      205 non-null object\n",
      "wheel-base           205 non-null float64\n",
      "length               205 non-null float64\n",
      "width                205 non-null float64\n",
      "height               205 non-null float64\n",
      "curb-weight          205 non-null int64\n",
      "engine-type          205 non-null object\n",
      "num-of-cylinders     205 non-null object\n",
      "engine-size          205 non-null int64\n",
      "fuel-system          205 non-null object\n",
      "bore                 205 non-null object\n",
      "stroke               205 non-null object\n",
      "compression-ratio    205 non-null float64\n",
      "horsepower           205 non-null object\n",
      "peak-rpm             205 non-null object\n",
      "city-mpg             205 non-null int64\n",
      "highway-mpg          205 non-null int64\n",
      "price                205 non-null object\n",
      "dtypes: float64(5), int64(5), object(16)\n",
      "memory usage: 41.7+ KB\n"
     ]
    }
   ],
   "source": [
    "dataDF = pd.read_csv(\"Auto1-DS-TestData.csv\", sep = \",\")\n",
    "print(\"shape of dataDF {0}\\n\\n\".format(dataDF.shape))\n",
    "dataDF.info()"
   ]
  },
  {
   "cell_type": "markdown",
   "metadata": {},
   "source": [
    " * There are in all 205 records,26 features.\n",
    " * missing values are represented as(?) as opposed to NaN \n",
    " * Some features such as price, normalized-losses, peak-rpm, horsepower, bore and stroke are represented as categorial because     of missing values(?)."
   ]
  },
  {
   "cell_type": "code",
   "execution_count": 3,
   "metadata": {},
   "outputs": [
    {
     "data": {
      "text/plain": [
       "array([ 3,  1,  2,  0, -1, -2], dtype=int64)"
      ]
     },
     "execution_count": 3,
     "metadata": {},
     "output_type": "execute_result"
    }
   ],
   "source": [
    "dataDF['symboling'].unique()"
   ]
  },
  {
   "cell_type": "markdown",
   "metadata": {},
   "source": [
    "## 2. preprocessing\n",
    "     2.1 Handling Missing Values\n",
    "     2.2 Outlier detection"
   ]
  },
  {
   "cell_type": "markdown",
   "metadata": {},
   "source": [
    "###  2.1 Handling missing values"
   ]
  },
  {
   "cell_type": "code",
   "execution_count": 4,
   "metadata": {},
   "outputs": [
    {
     "data": {
      "text/plain": [
       "symboling             0\n",
       "normalized-losses    41\n",
       "make                  0\n",
       "fuel-type             0\n",
       "aspiration            0\n",
       "num-of-doors          2\n",
       "body-style            0\n",
       "drive-wheels          0\n",
       "engine-location       0\n",
       "wheel-base            0\n",
       "length                0\n",
       "width                 0\n",
       "height                0\n",
       "curb-weight           0\n",
       "engine-type           0\n",
       "num-of-cylinders      0\n",
       "engine-size           0\n",
       "fuel-system           0\n",
       "bore                  4\n",
       "stroke                4\n",
       "compression-ratio     0\n",
       "horsepower            2\n",
       "peak-rpm              2\n",
       "city-mpg              0\n",
       "highway-mpg           0\n",
       "price                 4\n",
       "dtype: int64"
      ]
     },
     "execution_count": 4,
     "metadata": {},
     "output_type": "execute_result"
    }
   ],
   "source": [
    "dataDF.isin(['?']).sum(axis=0)"
   ]
  },
  {
   "cell_type": "markdown",
   "metadata": {},
   "source": [
    "Missing values in various columns.\n",
    "      1. normalized-losses  :  41\n",
    "      2. num-of-doors      :    2\n",
    "      3. bore               :   4\n",
    "      4. stroke             :   4\n",
    "      5. horsepower          :  2\n",
    "      6. peak-rpm            :  2\n",
    "      7. price               :  4\n",
    "      \n",
    "There are various stategies to handle missing values. As there are only 206 records, we will not throway missing records, instead **carefully  Intelligently** inpute them."
   ]
  },
  {
   "cell_type": "markdown",
   "metadata": {},
   "source": [
    "#### Impute num-of-doors feature"
   ]
  },
  {
   "cell_type": "code",
   "execution_count": 5,
   "metadata": {},
   "outputs": [
    {
     "data": {
      "text/html": [
       "<div>\n",
       "<style>\n",
       "    .dataframe thead tr:only-child th {\n",
       "        text-align: right;\n",
       "    }\n",
       "\n",
       "    .dataframe thead th {\n",
       "        text-align: left;\n",
       "    }\n",
       "\n",
       "    .dataframe tbody tr th {\n",
       "        vertical-align: top;\n",
       "    }\n",
       "</style>\n",
       "<table border=\"1\" class=\"dataframe\">\n",
       "  <thead>\n",
       "    <tr style=\"text-align: right;\">\n",
       "      <th></th>\n",
       "      <th>symboling</th>\n",
       "      <th>normalized-losses</th>\n",
       "      <th>make</th>\n",
       "      <th>fuel-type</th>\n",
       "      <th>aspiration</th>\n",
       "      <th>num-of-doors</th>\n",
       "      <th>body-style</th>\n",
       "      <th>drive-wheels</th>\n",
       "      <th>engine-location</th>\n",
       "      <th>wheel-base</th>\n",
       "      <th>...</th>\n",
       "      <th>engine-size</th>\n",
       "      <th>fuel-system</th>\n",
       "      <th>bore</th>\n",
       "      <th>stroke</th>\n",
       "      <th>compression-ratio</th>\n",
       "      <th>horsepower</th>\n",
       "      <th>peak-rpm</th>\n",
       "      <th>city-mpg</th>\n",
       "      <th>highway-mpg</th>\n",
       "      <th>price</th>\n",
       "    </tr>\n",
       "  </thead>\n",
       "  <tbody>\n",
       "    <tr>\n",
       "      <th>27</th>\n",
       "      <td>1</td>\n",
       "      <td>148</td>\n",
       "      <td>dodge</td>\n",
       "      <td>gas</td>\n",
       "      <td>turbo</td>\n",
       "      <td>?</td>\n",
       "      <td>sedan</td>\n",
       "      <td>fwd</td>\n",
       "      <td>front</td>\n",
       "      <td>93.7</td>\n",
       "      <td>...</td>\n",
       "      <td>98</td>\n",
       "      <td>mpfi</td>\n",
       "      <td>3.03</td>\n",
       "      <td>3.39</td>\n",
       "      <td>7.6</td>\n",
       "      <td>102</td>\n",
       "      <td>5500</td>\n",
       "      <td>24</td>\n",
       "      <td>30</td>\n",
       "      <td>8558</td>\n",
       "    </tr>\n",
       "    <tr>\n",
       "      <th>63</th>\n",
       "      <td>0</td>\n",
       "      <td>?</td>\n",
       "      <td>mazda</td>\n",
       "      <td>diesel</td>\n",
       "      <td>std</td>\n",
       "      <td>?</td>\n",
       "      <td>sedan</td>\n",
       "      <td>fwd</td>\n",
       "      <td>front</td>\n",
       "      <td>98.8</td>\n",
       "      <td>...</td>\n",
       "      <td>122</td>\n",
       "      <td>idi</td>\n",
       "      <td>3.39</td>\n",
       "      <td>3.39</td>\n",
       "      <td>22.7</td>\n",
       "      <td>64</td>\n",
       "      <td>4650</td>\n",
       "      <td>36</td>\n",
       "      <td>42</td>\n",
       "      <td>10795</td>\n",
       "    </tr>\n",
       "  </tbody>\n",
       "</table>\n",
       "<p>2 rows × 26 columns</p>\n",
       "</div>"
      ],
      "text/plain": [
       "    symboling normalized-losses   make fuel-type aspiration num-of-doors  \\\n",
       "27          1               148  dodge       gas      turbo            ?   \n",
       "63          0                 ?  mazda    diesel        std            ?   \n",
       "\n",
       "   body-style drive-wheels engine-location  wheel-base  ...    engine-size  \\\n",
       "27      sedan          fwd           front        93.7  ...             98   \n",
       "63      sedan          fwd           front        98.8  ...            122   \n",
       "\n",
       "    fuel-system  bore  stroke compression-ratio horsepower  peak-rpm city-mpg  \\\n",
       "27         mpfi  3.03    3.39               7.6        102      5500       24   \n",
       "63          idi  3.39    3.39              22.7         64      4650       36   \n",
       "\n",
       "   highway-mpg  price  \n",
       "27          30   8558  \n",
       "63          42  10795  \n",
       "\n",
       "[2 rows x 26 columns]"
      ]
     },
     "execution_count": 5,
     "metadata": {},
     "output_type": "execute_result"
    }
   ],
   "source": [
    "dataDF[dataDF['num-of-doors'] =='?']"
   ]
  },
  {
   "cell_type": "code",
   "execution_count": 6,
   "metadata": {},
   "outputs": [
    {
     "name": "stdout",
     "output_type": "stream",
     "text": [
      "four    79\n",
      "two     15\n",
      "?        2\n",
      "Name: num-of-doors, dtype: int64\n"
     ]
    }
   ],
   "source": [
    "print(dataDF[dataDF['body-style']=='sedan']['num-of-doors'].value_counts())"
   ]
  },
  {
   "cell_type": "code",
   "execution_count": 7,
   "metadata": {},
   "outputs": [],
   "source": [
    "dataDF['num-of-doors']=dataDF['num-of-doors'].map({'two':2,'four':4,'?':4})"
   ]
  },
  {
   "cell_type": "markdown",
   "metadata": {},
   "source": [
    "* Looks like majority of sedans have four doors. We will impute 4 for the missing values.\n",
    "* We will also **map({'two':2,'four':4,'?':4}**  i.e convert the **num-of-doors** to numeric feature."
   ]
  },
  {
   "cell_type": "markdown",
   "metadata": {},
   "source": [
    "### Impute  horsepower"
   ]
  },
  {
   "cell_type": "markdown",
   "metadata": {},
   "source": [
    "* We have talked about **intelligent imputing**. I will describe it here. Let us do it for **horsepower**.\n",
    "* **simple method Imputation** : take the mean and impute it. in this approach the mean would be 104.25.\n",
    "* **Intellegent method Imputation** : Subset the data on different features based on your knowledge of features and impute value   you get.  This method gives you better estimate of imputation. \n",
    "\n",
    "  Ex: We have subsetted the data based on  **dataDF[  (dataDF['fuel-type']=='gas') & (dataDF['body-style'] == 'hatchback') & (dataDF['num-of-cylinders'] == 'four') & (dataDF['horsepower']!='?')]['horsepower'].mean()**\n",
    "  \n",
    "  The value imputed is **92.04**"
   ]
  },
  {
   "cell_type": "code",
   "execution_count": 8,
   "metadata": {},
   "outputs": [
    {
     "data": {
      "text/html": [
       "<div>\n",
       "<style>\n",
       "    .dataframe thead tr:only-child th {\n",
       "        text-align: right;\n",
       "    }\n",
       "\n",
       "    .dataframe thead th {\n",
       "        text-align: left;\n",
       "    }\n",
       "\n",
       "    .dataframe tbody tr th {\n",
       "        vertical-align: top;\n",
       "    }\n",
       "</style>\n",
       "<table border=\"1\" class=\"dataframe\">\n",
       "  <thead>\n",
       "    <tr style=\"text-align: right;\">\n",
       "      <th></th>\n",
       "      <th>symboling</th>\n",
       "      <th>normalized-losses</th>\n",
       "      <th>make</th>\n",
       "      <th>fuel-type</th>\n",
       "      <th>aspiration</th>\n",
       "      <th>num-of-doors</th>\n",
       "      <th>body-style</th>\n",
       "      <th>drive-wheels</th>\n",
       "      <th>engine-location</th>\n",
       "      <th>wheel-base</th>\n",
       "      <th>...</th>\n",
       "      <th>engine-size</th>\n",
       "      <th>fuel-system</th>\n",
       "      <th>bore</th>\n",
       "      <th>stroke</th>\n",
       "      <th>compression-ratio</th>\n",
       "      <th>horsepower</th>\n",
       "      <th>peak-rpm</th>\n",
       "      <th>city-mpg</th>\n",
       "      <th>highway-mpg</th>\n",
       "      <th>price</th>\n",
       "    </tr>\n",
       "  </thead>\n",
       "  <tbody>\n",
       "    <tr>\n",
       "      <th>130</th>\n",
       "      <td>0</td>\n",
       "      <td>?</td>\n",
       "      <td>renault</td>\n",
       "      <td>gas</td>\n",
       "      <td>std</td>\n",
       "      <td>4</td>\n",
       "      <td>wagon</td>\n",
       "      <td>fwd</td>\n",
       "      <td>front</td>\n",
       "      <td>96.1</td>\n",
       "      <td>...</td>\n",
       "      <td>132</td>\n",
       "      <td>mpfi</td>\n",
       "      <td>3.46</td>\n",
       "      <td>3.90</td>\n",
       "      <td>8.7</td>\n",
       "      <td>?</td>\n",
       "      <td>?</td>\n",
       "      <td>23</td>\n",
       "      <td>31</td>\n",
       "      <td>9295</td>\n",
       "    </tr>\n",
       "    <tr>\n",
       "      <th>131</th>\n",
       "      <td>2</td>\n",
       "      <td>?</td>\n",
       "      <td>renault</td>\n",
       "      <td>gas</td>\n",
       "      <td>std</td>\n",
       "      <td>2</td>\n",
       "      <td>hatchback</td>\n",
       "      <td>fwd</td>\n",
       "      <td>front</td>\n",
       "      <td>96.1</td>\n",
       "      <td>...</td>\n",
       "      <td>132</td>\n",
       "      <td>mpfi</td>\n",
       "      <td>3.46</td>\n",
       "      <td>3.90</td>\n",
       "      <td>8.7</td>\n",
       "      <td>?</td>\n",
       "      <td>?</td>\n",
       "      <td>23</td>\n",
       "      <td>31</td>\n",
       "      <td>9895</td>\n",
       "    </tr>\n",
       "  </tbody>\n",
       "</table>\n",
       "<p>2 rows × 26 columns</p>\n",
       "</div>"
      ],
      "text/plain": [
       "     symboling normalized-losses     make fuel-type aspiration  num-of-doors  \\\n",
       "130          0                 ?  renault       gas        std             4   \n",
       "131          2                 ?  renault       gas        std             2   \n",
       "\n",
       "    body-style drive-wheels engine-location  wheel-base  ...   engine-size  \\\n",
       "130      wagon          fwd           front        96.1  ...           132   \n",
       "131  hatchback          fwd           front        96.1  ...           132   \n",
       "\n",
       "     fuel-system  bore  stroke compression-ratio horsepower  peak-rpm  \\\n",
       "130         mpfi  3.46    3.90               8.7          ?         ?   \n",
       "131         mpfi  3.46    3.90               8.7          ?         ?   \n",
       "\n",
       "    city-mpg highway-mpg price  \n",
       "130       23          31  9295  \n",
       "131       23          31  9895  \n",
       "\n",
       "[2 rows x 26 columns]"
      ]
     },
     "execution_count": 8,
     "metadata": {},
     "output_type": "execute_result"
    }
   ],
   "source": [
    "dataDF[dataDF['horsepower']=='?']"
   ]
  },
  {
   "cell_type": "code",
   "execution_count": 9,
   "metadata": {},
   "outputs": [
    {
     "name": "stdout",
     "output_type": "stream",
     "text": [
      "104.25615763546799\n"
     ]
    }
   ],
   "source": [
    "# Simple method Imputation\n",
    "\n",
    "tempDF=dataDF[dataDF['horsepower']!='?']\n",
    "hp_mean=(tempDF['horsepower'].astype(int)).mean()\n",
    "print(hp_mean)"
   ]
  },
  {
   "cell_type": "code",
   "execution_count": 10,
   "metadata": {},
   "outputs": [],
   "source": [
    "hp_mean  = dataDF[  (dataDF['fuel-type']=='gas') & (dataDF['body-style'] == 'hatchback') & (dataDF['num-of-cylinders'] == 'four') & (dataDF['horsepower']!='?')]['horsepower'].astype(int).mean()\n",
    "dataDF['horsepower']=dataDF['horsepower'].replace('?',hp_mean).astype(int)"
   ]
  },
  {
   "cell_type": "markdown",
   "metadata": {},
   "source": [
    "##### For remaining imptations, I am using mean of the column  due to lack of time.\n",
    "##### But a good inpute stratergy  always help us get good model"
   ]
  },
  {
   "cell_type": "markdown",
   "metadata": {},
   "source": [
    "### Impute  bore feature"
   ]
  },
  {
   "cell_type": "code",
   "execution_count": 11,
   "metadata": {},
   "outputs": [],
   "source": [
    "tempDF=dataDF[dataDF['bore']!='?']\n",
    "bore_mean=(tempDF['bore'].astype(float)).mean()\n",
    "dataDF['bore']=dataDF['bore'].replace('?',bore_mean).astype(float)"
   ]
  },
  {
   "cell_type": "markdown",
   "metadata": {},
   "source": [
    "### Impute stroke column"
   ]
  },
  {
   "cell_type": "code",
   "execution_count": 12,
   "metadata": {},
   "outputs": [],
   "source": [
    "tempDF=dataDF[dataDF['stroke']!='?']\n",
    "stroke_mean=(tempDF['stroke'].astype(float)).mean()\n",
    "dataDF['stroke']=dataDF['stroke'].replace('?',stroke_mean).astype(float)"
   ]
  },
  {
   "cell_type": "markdown",
   "metadata": {},
   "source": [
    "### Impute peak-rpm"
   ]
  },
  {
   "cell_type": "code",
   "execution_count": 13,
   "metadata": {},
   "outputs": [],
   "source": [
    "tempDF=dataDF[dataDF['peak-rpm']!='?']\n",
    "rpm_mean=(tempDF['peak-rpm'].astype(float)).mean()\n",
    "dataDF['peak-rpm']=dataDF['peak-rpm'].replace('?',rpm_mean).astype(float)"
   ]
  },
  {
   "cell_type": "markdown",
   "metadata": {},
   "source": [
    "### Impute  number-of-cylinders"
   ]
  },
  {
   "cell_type": "code",
   "execution_count": 14,
   "metadata": {},
   "outputs": [
    {
     "data": {
      "text/plain": [
       "array(['four', 'six', 'five', 'three', 'twelve', 'two', 'eight'],\n",
       "      dtype=object)"
      ]
     },
     "execution_count": 14,
     "metadata": {},
     "output_type": "execute_result"
    }
   ],
   "source": [
    "dataDF['num-of-cylinders'].unique()"
   ]
  },
  {
   "cell_type": "code",
   "execution_count": 15,
   "metadata": {},
   "outputs": [],
   "source": [
    "dataDF['num-of-cylinders']=dataDF['num-of-cylinders'].map({'three':3,'four':4,'five':5,'six':6,'?':4, 'twelve':12, 'two':2, 'eight':8})"
   ]
  },
  {
   "cell_type": "code",
   "execution_count": 16,
   "metadata": {},
   "outputs": [
    {
     "data": {
      "text/plain": [
       "symboling            0\n",
       "normalized-losses    0\n",
       "make                 0\n",
       "fuel-type            0\n",
       "aspiration           0\n",
       "num-of-doors         0\n",
       "body-style           0\n",
       "drive-wheels         0\n",
       "engine-location      0\n",
       "wheel-base           0\n",
       "length               0\n",
       "width                0\n",
       "height               0\n",
       "curb-weight          0\n",
       "engine-type          0\n",
       "num-of-cylinders     0\n",
       "engine-size          0\n",
       "fuel-system          0\n",
       "bore                 0\n",
       "stroke               0\n",
       "compression-ratio    0\n",
       "horsepower           0\n",
       "peak-rpm             0\n",
       "city-mpg             0\n",
       "highway-mpg          0\n",
       "price                0\n",
       "dtype: int64"
      ]
     },
     "execution_count": 16,
     "metadata": {},
     "output_type": "execute_result"
    }
   ],
   "source": [
    "dataDF.isnull().sum()"
   ]
  },
  {
   "cell_type": "code",
   "execution_count": 17,
   "metadata": {},
   "outputs": [
    {
     "data": {
      "text/plain": [
       "symboling             0\n",
       "normalized-losses    41\n",
       "make                  0\n",
       "fuel-type             0\n",
       "aspiration            0\n",
       "num-of-doors          0\n",
       "body-style            0\n",
       "drive-wheels          0\n",
       "engine-location       0\n",
       "wheel-base            0\n",
       "length                0\n",
       "width                 0\n",
       "height                0\n",
       "curb-weight           0\n",
       "engine-type           0\n",
       "num-of-cylinders      0\n",
       "engine-size           0\n",
       "fuel-system           0\n",
       "bore                  0\n",
       "stroke                0\n",
       "compression-ratio     0\n",
       "horsepower            0\n",
       "peak-rpm              0\n",
       "city-mpg              0\n",
       "highway-mpg           0\n",
       "price                 4\n",
       "dtype: int64"
      ]
     },
     "execution_count": 17,
     "metadata": {},
     "output_type": "execute_result"
    }
   ],
   "source": [
    "dataDF.isin(['?']).sum(axis=0)"
   ]
  },
  {
   "cell_type": "markdown",
   "metadata": {},
   "source": [
    "### Impute normalized-losses"
   ]
  },
  {
   "cell_type": "code",
   "execution_count": 18,
   "metadata": {},
   "outputs": [],
   "source": [
    "tempDF=dataDF[dataDF['normalized-losses']!='?']\n",
    "nor_mean=(tempDF['normalized-losses'].astype(int)).mean()\n",
    "dataDF['normalized-losses']=dataDF['normalized-losses'].replace('?',nor_mean).astype(int)"
   ]
  },
  {
   "cell_type": "markdown",
   "metadata": {},
   "source": [
    "### Impute price"
   ]
  },
  {
   "cell_type": "code",
   "execution_count": 19,
   "metadata": {},
   "outputs": [],
   "source": [
    "tempDF = dataDF[dataDF['price']!='?']\n",
    "price_avg=(tempDF['price'].astype(int)).mean()\n",
    "dataDF['price']=dataDF['price'].replace('?',price_avg).astype(int)"
   ]
  },
  {
   "cell_type": "code",
   "execution_count": 20,
   "metadata": {},
   "outputs": [
    {
     "data": {
      "text/html": [
       "<div>\n",
       "<style>\n",
       "    .dataframe thead tr:only-child th {\n",
       "        text-align: right;\n",
       "    }\n",
       "\n",
       "    .dataframe thead th {\n",
       "        text-align: left;\n",
       "    }\n",
       "\n",
       "    .dataframe tbody tr th {\n",
       "        vertical-align: top;\n",
       "    }\n",
       "</style>\n",
       "<table border=\"1\" class=\"dataframe\">\n",
       "  <thead>\n",
       "    <tr style=\"text-align: right;\">\n",
       "      <th></th>\n",
       "      <th>symboling</th>\n",
       "      <th>normalized-losses</th>\n",
       "      <th>make</th>\n",
       "      <th>fuel-type</th>\n",
       "      <th>aspiration</th>\n",
       "      <th>num-of-doors</th>\n",
       "      <th>body-style</th>\n",
       "      <th>drive-wheels</th>\n",
       "      <th>engine-location</th>\n",
       "      <th>wheel-base</th>\n",
       "      <th>...</th>\n",
       "      <th>engine-size</th>\n",
       "      <th>fuel-system</th>\n",
       "      <th>bore</th>\n",
       "      <th>stroke</th>\n",
       "      <th>compression-ratio</th>\n",
       "      <th>horsepower</th>\n",
       "      <th>peak-rpm</th>\n",
       "      <th>city-mpg</th>\n",
       "      <th>highway-mpg</th>\n",
       "      <th>price</th>\n",
       "    </tr>\n",
       "  </thead>\n",
       "  <tbody>\n",
       "    <tr>\n",
       "      <th>0</th>\n",
       "      <td>3</td>\n",
       "      <td>122</td>\n",
       "      <td>alfa-romero</td>\n",
       "      <td>gas</td>\n",
       "      <td>std</td>\n",
       "      <td>2</td>\n",
       "      <td>convertible</td>\n",
       "      <td>rwd</td>\n",
       "      <td>front</td>\n",
       "      <td>88.6</td>\n",
       "      <td>...</td>\n",
       "      <td>130</td>\n",
       "      <td>mpfi</td>\n",
       "      <td>3.47</td>\n",
       "      <td>2.68</td>\n",
       "      <td>9.0</td>\n",
       "      <td>111</td>\n",
       "      <td>5000.0</td>\n",
       "      <td>21</td>\n",
       "      <td>27</td>\n",
       "      <td>13495</td>\n",
       "    </tr>\n",
       "    <tr>\n",
       "      <th>1</th>\n",
       "      <td>3</td>\n",
       "      <td>122</td>\n",
       "      <td>alfa-romero</td>\n",
       "      <td>gas</td>\n",
       "      <td>std</td>\n",
       "      <td>2</td>\n",
       "      <td>convertible</td>\n",
       "      <td>rwd</td>\n",
       "      <td>front</td>\n",
       "      <td>88.6</td>\n",
       "      <td>...</td>\n",
       "      <td>130</td>\n",
       "      <td>mpfi</td>\n",
       "      <td>3.47</td>\n",
       "      <td>2.68</td>\n",
       "      <td>9.0</td>\n",
       "      <td>111</td>\n",
       "      <td>5000.0</td>\n",
       "      <td>21</td>\n",
       "      <td>27</td>\n",
       "      <td>16500</td>\n",
       "    </tr>\n",
       "    <tr>\n",
       "      <th>2</th>\n",
       "      <td>1</td>\n",
       "      <td>122</td>\n",
       "      <td>alfa-romero</td>\n",
       "      <td>gas</td>\n",
       "      <td>std</td>\n",
       "      <td>2</td>\n",
       "      <td>hatchback</td>\n",
       "      <td>rwd</td>\n",
       "      <td>front</td>\n",
       "      <td>94.5</td>\n",
       "      <td>...</td>\n",
       "      <td>152</td>\n",
       "      <td>mpfi</td>\n",
       "      <td>2.68</td>\n",
       "      <td>3.47</td>\n",
       "      <td>9.0</td>\n",
       "      <td>154</td>\n",
       "      <td>5000.0</td>\n",
       "      <td>19</td>\n",
       "      <td>26</td>\n",
       "      <td>16500</td>\n",
       "    </tr>\n",
       "    <tr>\n",
       "      <th>3</th>\n",
       "      <td>2</td>\n",
       "      <td>164</td>\n",
       "      <td>audi</td>\n",
       "      <td>gas</td>\n",
       "      <td>std</td>\n",
       "      <td>4</td>\n",
       "      <td>sedan</td>\n",
       "      <td>fwd</td>\n",
       "      <td>front</td>\n",
       "      <td>99.8</td>\n",
       "      <td>...</td>\n",
       "      <td>109</td>\n",
       "      <td>mpfi</td>\n",
       "      <td>3.19</td>\n",
       "      <td>3.40</td>\n",
       "      <td>10.0</td>\n",
       "      <td>102</td>\n",
       "      <td>5500.0</td>\n",
       "      <td>24</td>\n",
       "      <td>30</td>\n",
       "      <td>13950</td>\n",
       "    </tr>\n",
       "    <tr>\n",
       "      <th>4</th>\n",
       "      <td>2</td>\n",
       "      <td>164</td>\n",
       "      <td>audi</td>\n",
       "      <td>gas</td>\n",
       "      <td>std</td>\n",
       "      <td>4</td>\n",
       "      <td>sedan</td>\n",
       "      <td>4wd</td>\n",
       "      <td>front</td>\n",
       "      <td>99.4</td>\n",
       "      <td>...</td>\n",
       "      <td>136</td>\n",
       "      <td>mpfi</td>\n",
       "      <td>3.19</td>\n",
       "      <td>3.40</td>\n",
       "      <td>8.0</td>\n",
       "      <td>115</td>\n",
       "      <td>5500.0</td>\n",
       "      <td>18</td>\n",
       "      <td>22</td>\n",
       "      <td>17450</td>\n",
       "    </tr>\n",
       "  </tbody>\n",
       "</table>\n",
       "<p>5 rows × 26 columns</p>\n",
       "</div>"
      ],
      "text/plain": [
       "   symboling  normalized-losses         make fuel-type aspiration  \\\n",
       "0          3                122  alfa-romero       gas        std   \n",
       "1          3                122  alfa-romero       gas        std   \n",
       "2          1                122  alfa-romero       gas        std   \n",
       "3          2                164         audi       gas        std   \n",
       "4          2                164         audi       gas        std   \n",
       "\n",
       "   num-of-doors   body-style drive-wheels engine-location  wheel-base  ...    \\\n",
       "0             2  convertible          rwd           front        88.6  ...     \n",
       "1             2  convertible          rwd           front        88.6  ...     \n",
       "2             2    hatchback          rwd           front        94.5  ...     \n",
       "3             4        sedan          fwd           front        99.8  ...     \n",
       "4             4        sedan          4wd           front        99.4  ...     \n",
       "\n",
       "   engine-size  fuel-system  bore  stroke compression-ratio  horsepower  \\\n",
       "0          130         mpfi  3.47    2.68               9.0         111   \n",
       "1          130         mpfi  3.47    2.68               9.0         111   \n",
       "2          152         mpfi  2.68    3.47               9.0         154   \n",
       "3          109         mpfi  3.19    3.40              10.0         102   \n",
       "4          136         mpfi  3.19    3.40               8.0         115   \n",
       "\n",
       "   peak-rpm city-mpg  highway-mpg  price  \n",
       "0    5000.0       21           27  13495  \n",
       "1    5000.0       21           27  16500  \n",
       "2    5000.0       19           26  16500  \n",
       "3    5500.0       24           30  13950  \n",
       "4    5500.0       18           22  17450  \n",
       "\n",
       "[5 rows x 26 columns]"
      ]
     },
     "execution_count": 20,
     "metadata": {},
     "output_type": "execute_result"
    }
   ],
   "source": [
    "dataDF.head()"
   ]
  },
  {
   "cell_type": "markdown",
   "metadata": {},
   "source": [
    "**Now we are good to go, no missing values in dataframe.**"
   ]
  },
  {
   "cell_type": "markdown",
   "metadata": {},
   "source": [
    "* Basic statistics of dataDf"
   ]
  },
  {
   "cell_type": "code",
   "execution_count": 21,
   "metadata": {},
   "outputs": [
    {
     "data": {
      "text/html": [
       "<div>\n",
       "<style>\n",
       "    .dataframe thead tr:only-child th {\n",
       "        text-align: right;\n",
       "    }\n",
       "\n",
       "    .dataframe thead th {\n",
       "        text-align: left;\n",
       "    }\n",
       "\n",
       "    .dataframe tbody tr th {\n",
       "        vertical-align: top;\n",
       "    }\n",
       "</style>\n",
       "<table border=\"1\" class=\"dataframe\">\n",
       "  <thead>\n",
       "    <tr style=\"text-align: right;\">\n",
       "      <th></th>\n",
       "      <th>symboling</th>\n",
       "      <th>normalized-losses</th>\n",
       "      <th>num-of-doors</th>\n",
       "      <th>wheel-base</th>\n",
       "      <th>length</th>\n",
       "      <th>width</th>\n",
       "      <th>height</th>\n",
       "      <th>curb-weight</th>\n",
       "      <th>num-of-cylinders</th>\n",
       "      <th>engine-size</th>\n",
       "      <th>bore</th>\n",
       "      <th>stroke</th>\n",
       "      <th>compression-ratio</th>\n",
       "      <th>horsepower</th>\n",
       "      <th>peak-rpm</th>\n",
       "      <th>city-mpg</th>\n",
       "      <th>highway-mpg</th>\n",
       "      <th>price</th>\n",
       "    </tr>\n",
       "  </thead>\n",
       "  <tbody>\n",
       "    <tr>\n",
       "      <th>count</th>\n",
       "      <td>205.000000</td>\n",
       "      <td>205.000000</td>\n",
       "      <td>205.000000</td>\n",
       "      <td>205.000000</td>\n",
       "      <td>205.000000</td>\n",
       "      <td>205.000000</td>\n",
       "      <td>205.000000</td>\n",
       "      <td>205.000000</td>\n",
       "      <td>205.000000</td>\n",
       "      <td>205.000000</td>\n",
       "      <td>205.000000</td>\n",
       "      <td>205.000000</td>\n",
       "      <td>205.000000</td>\n",
       "      <td>205.000000</td>\n",
       "      <td>205.000000</td>\n",
       "      <td>205.000000</td>\n",
       "      <td>205.000000</td>\n",
       "      <td>205.000000</td>\n",
       "    </tr>\n",
       "    <tr>\n",
       "      <th>mean</th>\n",
       "      <td>0.834146</td>\n",
       "      <td>122.000000</td>\n",
       "      <td>3.131707</td>\n",
       "      <td>98.756585</td>\n",
       "      <td>174.049268</td>\n",
       "      <td>65.907805</td>\n",
       "      <td>53.724878</td>\n",
       "      <td>2555.565854</td>\n",
       "      <td>4.380488</td>\n",
       "      <td>126.907317</td>\n",
       "      <td>3.329751</td>\n",
       "      <td>3.255423</td>\n",
       "      <td>10.142537</td>\n",
       "      <td>104.126829</td>\n",
       "      <td>5125.369458</td>\n",
       "      <td>25.219512</td>\n",
       "      <td>30.751220</td>\n",
       "      <td>13207.126829</td>\n",
       "    </tr>\n",
       "    <tr>\n",
       "      <th>std</th>\n",
       "      <td>1.245307</td>\n",
       "      <td>31.681008</td>\n",
       "      <td>0.993715</td>\n",
       "      <td>6.021776</td>\n",
       "      <td>12.337289</td>\n",
       "      <td>2.145204</td>\n",
       "      <td>2.443522</td>\n",
       "      <td>520.680204</td>\n",
       "      <td>1.080854</td>\n",
       "      <td>41.642693</td>\n",
       "      <td>0.270844</td>\n",
       "      <td>0.313597</td>\n",
       "      <td>3.972040</td>\n",
       "      <td>39.540789</td>\n",
       "      <td>476.979093</td>\n",
       "      <td>6.542142</td>\n",
       "      <td>6.886443</td>\n",
       "      <td>7868.768212</td>\n",
       "    </tr>\n",
       "    <tr>\n",
       "      <th>min</th>\n",
       "      <td>-2.000000</td>\n",
       "      <td>65.000000</td>\n",
       "      <td>2.000000</td>\n",
       "      <td>86.600000</td>\n",
       "      <td>141.100000</td>\n",
       "      <td>60.300000</td>\n",
       "      <td>47.800000</td>\n",
       "      <td>1488.000000</td>\n",
       "      <td>2.000000</td>\n",
       "      <td>61.000000</td>\n",
       "      <td>2.540000</td>\n",
       "      <td>2.070000</td>\n",
       "      <td>7.000000</td>\n",
       "      <td>48.000000</td>\n",
       "      <td>4150.000000</td>\n",
       "      <td>13.000000</td>\n",
       "      <td>16.000000</td>\n",
       "      <td>5118.000000</td>\n",
       "    </tr>\n",
       "    <tr>\n",
       "      <th>25%</th>\n",
       "      <td>0.000000</td>\n",
       "      <td>101.000000</td>\n",
       "      <td>2.000000</td>\n",
       "      <td>94.500000</td>\n",
       "      <td>166.300000</td>\n",
       "      <td>64.100000</td>\n",
       "      <td>52.000000</td>\n",
       "      <td>2145.000000</td>\n",
       "      <td>4.000000</td>\n",
       "      <td>97.000000</td>\n",
       "      <td>3.150000</td>\n",
       "      <td>3.110000</td>\n",
       "      <td>8.600000</td>\n",
       "      <td>70.000000</td>\n",
       "      <td>4800.000000</td>\n",
       "      <td>19.000000</td>\n",
       "      <td>25.000000</td>\n",
       "      <td>7788.000000</td>\n",
       "    </tr>\n",
       "    <tr>\n",
       "      <th>50%</th>\n",
       "      <td>1.000000</td>\n",
       "      <td>122.000000</td>\n",
       "      <td>4.000000</td>\n",
       "      <td>97.000000</td>\n",
       "      <td>173.200000</td>\n",
       "      <td>65.500000</td>\n",
       "      <td>54.100000</td>\n",
       "      <td>2414.000000</td>\n",
       "      <td>4.000000</td>\n",
       "      <td>120.000000</td>\n",
       "      <td>3.310000</td>\n",
       "      <td>3.290000</td>\n",
       "      <td>9.000000</td>\n",
       "      <td>95.000000</td>\n",
       "      <td>5200.000000</td>\n",
       "      <td>24.000000</td>\n",
       "      <td>30.000000</td>\n",
       "      <td>10595.000000</td>\n",
       "    </tr>\n",
       "    <tr>\n",
       "      <th>75%</th>\n",
       "      <td>2.000000</td>\n",
       "      <td>137.000000</td>\n",
       "      <td>4.000000</td>\n",
       "      <td>102.400000</td>\n",
       "      <td>183.100000</td>\n",
       "      <td>66.900000</td>\n",
       "      <td>55.500000</td>\n",
       "      <td>2935.000000</td>\n",
       "      <td>4.000000</td>\n",
       "      <td>141.000000</td>\n",
       "      <td>3.580000</td>\n",
       "      <td>3.410000</td>\n",
       "      <td>9.400000</td>\n",
       "      <td>116.000000</td>\n",
       "      <td>5500.000000</td>\n",
       "      <td>30.000000</td>\n",
       "      <td>34.000000</td>\n",
       "      <td>16500.000000</td>\n",
       "    </tr>\n",
       "    <tr>\n",
       "      <th>max</th>\n",
       "      <td>3.000000</td>\n",
       "      <td>256.000000</td>\n",
       "      <td>4.000000</td>\n",
       "      <td>120.900000</td>\n",
       "      <td>208.100000</td>\n",
       "      <td>72.300000</td>\n",
       "      <td>59.800000</td>\n",
       "      <td>4066.000000</td>\n",
       "      <td>12.000000</td>\n",
       "      <td>326.000000</td>\n",
       "      <td>3.940000</td>\n",
       "      <td>4.170000</td>\n",
       "      <td>23.000000</td>\n",
       "      <td>288.000000</td>\n",
       "      <td>6600.000000</td>\n",
       "      <td>49.000000</td>\n",
       "      <td>54.000000</td>\n",
       "      <td>45400.000000</td>\n",
       "    </tr>\n",
       "  </tbody>\n",
       "</table>\n",
       "</div>"
      ],
      "text/plain": [
       "        symboling  normalized-losses  num-of-doors  wheel-base      length  \\\n",
       "count  205.000000         205.000000    205.000000  205.000000  205.000000   \n",
       "mean     0.834146         122.000000      3.131707   98.756585  174.049268   \n",
       "std      1.245307          31.681008      0.993715    6.021776   12.337289   \n",
       "min     -2.000000          65.000000      2.000000   86.600000  141.100000   \n",
       "25%      0.000000         101.000000      2.000000   94.500000  166.300000   \n",
       "50%      1.000000         122.000000      4.000000   97.000000  173.200000   \n",
       "75%      2.000000         137.000000      4.000000  102.400000  183.100000   \n",
       "max      3.000000         256.000000      4.000000  120.900000  208.100000   \n",
       "\n",
       "            width      height  curb-weight  num-of-cylinders  engine-size  \\\n",
       "count  205.000000  205.000000   205.000000        205.000000   205.000000   \n",
       "mean    65.907805   53.724878  2555.565854          4.380488   126.907317   \n",
       "std      2.145204    2.443522   520.680204          1.080854    41.642693   \n",
       "min     60.300000   47.800000  1488.000000          2.000000    61.000000   \n",
       "25%     64.100000   52.000000  2145.000000          4.000000    97.000000   \n",
       "50%     65.500000   54.100000  2414.000000          4.000000   120.000000   \n",
       "75%     66.900000   55.500000  2935.000000          4.000000   141.000000   \n",
       "max     72.300000   59.800000  4066.000000         12.000000   326.000000   \n",
       "\n",
       "             bore      stroke  compression-ratio  horsepower     peak-rpm  \\\n",
       "count  205.000000  205.000000         205.000000  205.000000   205.000000   \n",
       "mean     3.329751    3.255423          10.142537  104.126829  5125.369458   \n",
       "std      0.270844    0.313597           3.972040   39.540789   476.979093   \n",
       "min      2.540000    2.070000           7.000000   48.000000  4150.000000   \n",
       "25%      3.150000    3.110000           8.600000   70.000000  4800.000000   \n",
       "50%      3.310000    3.290000           9.000000   95.000000  5200.000000   \n",
       "75%      3.580000    3.410000           9.400000  116.000000  5500.000000   \n",
       "max      3.940000    4.170000          23.000000  288.000000  6600.000000   \n",
       "\n",
       "         city-mpg  highway-mpg         price  \n",
       "count  205.000000   205.000000    205.000000  \n",
       "mean    25.219512    30.751220  13207.126829  \n",
       "std      6.542142     6.886443   7868.768212  \n",
       "min     13.000000    16.000000   5118.000000  \n",
       "25%     19.000000    25.000000   7788.000000  \n",
       "50%     24.000000    30.000000  10595.000000  \n",
       "75%     30.000000    34.000000  16500.000000  \n",
       "max     49.000000    54.000000  45400.000000  "
      ]
     },
     "execution_count": 21,
     "metadata": {},
     "output_type": "execute_result"
    }
   ],
   "source": [
    "dataDF.describe()"
   ]
  },
  {
   "cell_type": "markdown",
   "metadata": {},
   "source": [
    "### Question 2 (10 Points)\n",
    "###### Auto1 has a similar dataset (yet much larger...)  Pick one of the use cases you listed in question 1 and describe how building a statistical model based on the dataset could best be used to improve Auto1’s business.\n"
   ]
  },
  {
   "cell_type": "markdown",
   "metadata": {},
   "source": [
    "### Predict Fuel-efficiency: \n",
    "\n",
    "**Predict Fuel-efficiency:**  Predict **avg-mpg** where **avg-mpg** is the average of **city and highway mileage**. As a customer, When I am buying a used car, I want to be sure of car's health/efficiency apart from other things. **avg-mpg** is usually overstated by the car seller and must be believed with a pinch of salt.\n",
    "     \n",
    "As a customer I would like **Auto1** run machine learning models and estimate this parameter(**avg-mpg**) for a used car.   **avg-mpg**  is also  one  of the indicators of healthy car.\n",
    "     \n",
    "As a customer I want to know what my  car **avg-mpg** is going to be in a world where  petrol/disel rates go up everyday. It would be great help for the user         if we can predict the **avg-mpg** using  features of cars.\n",
    "\n",
    "    1. EDA : What features correlate/affect MPG?\n",
    "    2. Methods:\n",
    "        2.1 Tree based methods for predicting **avg-mpg**\n",
    "        2.2 Linear model\n"
   ]
  },
  {
   "cell_type": "markdown",
   "metadata": {},
   "source": [
    "We will create one variable called **avg-mpg**"
   ]
  },
  {
   "cell_type": "code",
   "execution_count": 22,
   "metadata": {},
   "outputs": [],
   "source": [
    "dataDF['avg-mpg'] = (dataDF['city-mpg']+dataDF['highway-mpg'])/2\n",
    "dataDF.drop(['city-mpg','highway-mpg'],axis=1,inplace=True)"
   ]
  },
  {
   "cell_type": "markdown",
   "metadata": {},
   "source": [
    "## 3. EDA"
   ]
  },
  {
   "cell_type": "markdown",
   "metadata": {},
   "source": [
    "####  Correlation avg-mph with other numeric variables"
   ]
  },
  {
   "cell_type": "code",
   "execution_count": 23,
   "metadata": {},
   "outputs": [
    {
     "data": {
      "image/png": "[encoded data removed]",
      "text/plain": [
       "<matplotlib.figure.Figure at 0x20ec005f630>"
      ]
     },
     "metadata": {
      "needs_background": "light"
     },
     "output_type": "display_data"
    }
   ],
   "source": [
    "corr = dataDF.corr()\n",
    "corr_map = sns.heatmap(corr,xticklabels=corr.columns.values,yticklabels=corr.columns.values)"
   ]
  },
  {
   "cell_type": "code",
   "execution_count": 24,
   "metadata": {},
   "outputs": [
    {
     "data": {
      "text/plain": [
       "symboling            0.000297\n",
       "normalized-losses   -0.199398\n",
       "num-of-doors        -0.026348\n",
       "wheel-base          -0.511871\n",
       "length              -0.693200\n",
       "width               -0.665184\n",
       "height              -0.079321\n",
       "curb-weight         -0.783584\n",
       "num-of-cylinders    -0.459823\n",
       "engine-size         -0.670689\n",
       "bore                -0.590022\n",
       "stroke              -0.043405\n",
       "compression-ratio    0.296318\n",
       "horsepower          -0.791395\n",
       "peak-rpm            -0.083830\n",
       "price               -0.684201\n",
       "avg-mpg              1.000000\n",
       "Name: avg-mpg, dtype: float64"
      ]
     },
     "execution_count": 24,
     "metadata": {},
     "output_type": "execute_result"
    }
   ],
   "source": [
    "corr['avg-mpg']"
   ]
  },
  {
   "cell_type": "markdown",
   "metadata": {},
   "source": [
    "* **avg-mpg** positively correlates with compression-ratio\n",
    "* **horsepower, curb-weight,engine-size** negatively correlates"
   ]
  },
  {
   "cell_type": "code",
   "execution_count": 25,
   "metadata": {},
   "outputs": [],
   "source": [
    "plot_color = \"#55AA33\"\n",
    "palette = [\"#FFA07A\",\"#FF0000\", \"#dd0033\",\"#800000\",\"#DB7093\"]\n",
    "figalpha = 0.5\n",
    "axalpha = 0\n",
    "\n",
    "left   =  0.10  # the left side of the subplots of the figure\n",
    "right  =  0.95    # the right side of the subplots of the figure\n",
    "bottom =  0.2    # the bottom of the subplots of the figure\n",
    "top    =  0.3    # the top of the subplots of the figure\n",
    "wspace =  0.1     # the amount of width reserved for blank space between subplots\n",
    "hspace = 0.1 # the amount of height reserved for white space between subplots\n",
    "y_title_margin = 1.0 # The amount of space above titles"
   ]
  },
  {
   "cell_type": "code",
   "execution_count": 26,
   "metadata": {},
   "outputs": [
    {
     "data": {
      "image/png": "[encoded data removed]",
      "text/plain": [
       "<matplotlib.figure.Figure at 0x20ec036cc50>"
      ]
     },
     "metadata": {
      "needs_background": "light"
     },
     "output_type": "display_data"
    }
   ],
   "source": [
    "## undestanding few features\n",
    "\n",
    "dataDF[['engine-size','peak-rpm','curb-weight','horsepower','price','avg-mpg']] \\\n",
    ".hist(figsize=(10,8),bins=8,color='g',linewidth='1',edgecolor='k')\n",
    "plt.tight_layout()\n",
    "plt.show()"
   ]
  },
  {
   "cell_type": "code",
   "execution_count": 27,
   "metadata": {},
   "outputs": [
    {
     "name": "stderr",
     "output_type": "stream",
     "text": [
      "c:\\users\\h213561\\appdata\\local\\continuum\\anaconda3\\lib\\site-packages\\scipy\\stats\\stats.py:1713: FutureWarning: Using a non-tuple sequence for multidimensional indexing is deprecated; use `arr[tuple(seq)]` instead of `arr[seq]`. In the future this will be interpreted as an array index, `arr[np.array(seq)]`, which will result either in an error or a different result.\n",
      "  return np.add.reduce(sorted[indexer] * weights, axis=axis) / sumval\n"
     ]
    },
    {
     "data": {
      "text/plain": [
       "Text(0.5,0,'engine-size')"
      ]
     },
     "execution_count": 27,
     "metadata": {},
     "output_type": "execute_result"
    },
    {
     "data": {
      "image/png": "[encoded data removed]",
      "text/plain": [
       "<matplotlib.figure.Figure at 0x20ec088bcc0>"
      ]
     },
     "metadata": {},
     "output_type": "display_data"
    },
    {
     "data": {
      "image/png": "[encoded data removed]",
      "text/plain": [
       "<matplotlib.figure.Figure at 0x20ec05ed978>"
      ]
     },
     "metadata": {},
     "output_type": "display_data"
    }
   ],
   "source": [
    "\n",
    "fig, ax = plt.subplots(figsize=(6,5), ncols=1, nrows=1) \n",
    "fig.patch.set_alpha(0.5)\n",
    "ax.set_title(\"Horsepower - avg-mpg\", y = y_title_margin, fontsize=16)\n",
    "ax.patch.set_alpha(0)\n",
    "gax8=sns.regplot(\"horsepower\",'avg-mpg', data=dataDF, color=plot_color)\n",
    "gax8.set_ylabel('avg-mpg',fontsize=14 )\n",
    "gax8.set_xlabel('Horsepower',fontsize=14)\n",
    "\n",
    "\n",
    "\n",
    "fig, ax = plt.subplots(figsize=(6,5), ncols=1, nrows=1)\n",
    "fig.patch.set_alpha(0.5)\n",
    "ax.set_title(\"engine-size - avg-mpg\", y = y_title_margin, fontsize=16)\n",
    "ax.patch.set_alpha(0)\n",
    "gax8=sns.regplot(\"engine-size\",'avg-mpg', data=dataDF, color=plot_color)\n",
    "gax8.set_ylabel('avg-mpg',fontsize=14 )\n",
    "gax8.set_xlabel('engine-size',fontsize=14)"
   ]
  },
  {
   "cell_type": "markdown",
   "metadata": {},
   "source": [
    "### 4.1 Feature Engineering"
   ]
  },
  {
   "cell_type": "code",
   "execution_count": 28,
   "metadata": {},
   "outputs": [],
   "source": [
    "cat_vars = dataDF.select_dtypes(include = [\"object\"]).columns\n",
    "num_vars = dataDF._get_numeric_data().columns"
   ]
  },
  {
   "cell_type": "code",
   "execution_count": 29,
   "metadata": {},
   "outputs": [
    {
     "name": "stdout",
     "output_type": "stream",
     "text": [
      "Total no cat vars : 8 \n",
      "Total no num vars : 17\n",
      "\n",
      "Index(['make', 'fuel-type', 'aspiration', 'body-style', 'drive-wheels',\n",
      "       'engine-location', 'engine-type', 'fuel-system'],\n",
      "      dtype='object')\n",
      "Index(['symboling', 'normalized-losses', 'num-of-doors', 'wheel-base',\n",
      "       'length', 'width', 'height', 'curb-weight', 'num-of-cylinders',\n",
      "       'engine-size', 'bore', 'stroke', 'compression-ratio', 'horsepower',\n",
      "       'peak-rpm', 'price', 'avg-mpg'],\n",
      "      dtype='object')\n"
     ]
    }
   ],
   "source": [
    "print(\"Total no cat vars : {0} \\nTotal no num vars : {1}\\n\".format(len(cat_vars),len(num_vars)))\n",
    "print(cat_vars)\n",
    "print(num_vars)\n"
   ]
  },
  {
   "cell_type": "markdown",
   "metadata": {},
   "source": [
    "We can code few cat variables as binary"
   ]
  },
  {
   "cell_type": "code",
   "execution_count": 30,
   "metadata": {},
   "outputs": [],
   "source": [
    "###  cat vars code\n",
    "binary = ['fuel-type','aspiration','engine-location']\n",
    "cat = ['make','body-style','engine-type','fuel-system','drive-wheels']\n",
    "\n",
    "##  binary categories label encoder\n",
    "binary_style = LabelBinarizer()\n",
    "\n",
    "for var in binary:\n",
    "    dataDF[var] = binary_style.fit_transform(dataDF[var])"
   ]
  },
  {
   "cell_type": "code",
   "execution_count": 31,
   "metadata": {},
   "outputs": [
    {
     "data": {
      "text/plain": [
       "(205, 25)"
      ]
     },
     "execution_count": 31,
     "metadata": {},
     "output_type": "execute_result"
    }
   ],
   "source": [
    "dataDF.shape"
   ]
  },
  {
   "cell_type": "code",
   "execution_count": 32,
   "metadata": {},
   "outputs": [
    {
     "data": {
      "text/plain": [
       "symboling            0\n",
       "normalized-losses    0\n",
       "make                 0\n",
       "fuel-type            0\n",
       "aspiration           0\n",
       "num-of-doors         0\n",
       "body-style           0\n",
       "drive-wheels         0\n",
       "engine-location      0\n",
       "wheel-base           0\n",
       "length               0\n",
       "width                0\n",
       "height               0\n",
       "curb-weight          0\n",
       "engine-type          0\n",
       "num-of-cylinders     0\n",
       "engine-size          0\n",
       "fuel-system          0\n",
       "bore                 0\n",
       "stroke               0\n",
       "compression-ratio    0\n",
       "horsepower           0\n",
       "peak-rpm             0\n",
       "price                0\n",
       "avg-mpg              0\n",
       "dtype: int64"
      ]
     },
     "execution_count": 32,
     "metadata": {},
     "output_type": "execute_result"
    }
   ],
   "source": [
    "dataDF.isnull().sum()"
   ]
  },
  {
   "cell_type": "code",
   "execution_count": 33,
   "metadata": {},
   "outputs": [],
   "source": [
    "## onehot encoding for categorical variables \n",
    "def onehotEncoding(df,features):\n",
    "\n",
    "    for feature in features:\n",
    "        dummies = pd.get_dummies(df[feature])\n",
    "        df = pd.concat([df,dummies], axis=1) \n",
    "        df.drop([feature], axis=1, inplace=True)\n",
    "    return df"
   ]
  },
  {
   "cell_type": "code",
   "execution_count": 34,
   "metadata": {},
   "outputs": [],
   "source": [
    "dataDF=onehotEncoding(dataDF,cat)"
   ]
  },
  {
   "cell_type": "code",
   "execution_count": 35,
   "metadata": {},
   "outputs": [
    {
     "data": {
      "text/plain": [
       "(205, 65)"
      ]
     },
     "execution_count": 35,
     "metadata": {},
     "output_type": "execute_result"
    }
   ],
   "source": [
    "dataDF.shape"
   ]
  },
  {
   "cell_type": "markdown",
   "metadata": {},
   "source": [
    "* In all we have 65 variables. \n",
    "* We will make **avg-mpg** as response variable and **Remaining varaibles** as Predictors."
   ]
  },
  {
   "cell_type": "code",
   "execution_count": 36,
   "metadata": {},
   "outputs": [],
   "source": [
    "# Helper function\n",
    "def splitData(df, label):\n",
    "    \n",
    "    y = df[label]\n",
    "    X = df.drop(label, axis = 1)\n",
    "    return X, y"
   ]
  },
  {
   "cell_type": "code",
   "execution_count": 37,
   "metadata": {},
   "outputs": [],
   "source": [
    "X, y = splitData(dataDF, label = \"avg-mpg\")"
   ]
  },
  {
   "cell_type": "markdown",
   "metadata": {},
   "source": [
    "### 4.2  Feature Selection"
   ]
  },
  {
   "cell_type": "code",
   "execution_count": 38,
   "metadata": {},
   "outputs": [],
   "source": [
    "# feature selection using cross validation\n",
    "class PipelineRFE(Pipeline):\n",
    "\n",
    "    def fit(self, X, y=None, **fit_params):\n",
    "        super(PipelineRFE, self).fit(X, y, **fit_params)\n",
    "        self.feature_importances_ = self.steps[-1][-1].feature_importances_\n",
    "        return self\n",
    "\n",
    "pipe = PipelineRFE(\n",
    "    [\n",
    "        ('std_scaler', preprocessing.StandardScaler()),\n",
    "        (\"ET\", ExtraTreesRegressor(random_state=42, n_estimators=25))\n",
    "    ]\n",
    ")"
   ]
  },
  {
   "cell_type": "code",
   "execution_count": 39,
   "metadata": {},
   "outputs": [
    {
     "data": {
      "text/plain": [
       "RFECV(cv=5,\n",
       "   estimator=PipelineRFE(memory=None,\n",
       "      steps=[('std_scaler', StandardScaler(copy=True, with_mean=True, with_std=True)), ('ET', ExtraTreesRegressor(bootstrap=False, criterion='mse', max_depth=None,\n",
       "          max_features='auto', max_leaf_nodes=None,\n",
       "          min_impurity_decrease=0.0, min_impurity...estimators=25, n_jobs=1,\n",
       "          oob_score=False, random_state=42, verbose=0, warm_start=False))]),\n",
       "   n_jobs=1, scoring='neg_mean_squared_error', step=1, verbose=0)"
      ]
     },
     "execution_count": 39,
     "metadata": {},
     "output_type": "execute_result"
    }
   ],
   "source": [
    "feature_selector_cv = feature_selection.RFECV(pipe, cv=5, step=1, scoring=\"neg_mean_squared_error\")\n",
    "feature_selector_cv.fit(X, y)"
   ]
  },
  {
   "cell_type": "code",
   "execution_count": 40,
   "metadata": {},
   "outputs": [
    {
     "name": "stdout",
     "output_type": "stream",
     "text": [
      "12\n",
      "[3.95193117 3.00452951 2.88839917 2.88812252 3.11498189 2.85384875\n",
      " 3.04071879 2.93774329 2.90524538 2.90294249 2.7477945  2.73021897\n",
      " 2.92579979 3.0117487  2.75825219 2.94084275 2.92937719 3.01073494\n",
      " 3.10998675 2.93255969 2.97562881 3.06307736 2.98138877 3.01039208\n",
      " 3.15222415 3.09733103 3.01278188 3.00124169 3.08810211 2.94167863\n",
      " 2.87717951 3.02489798 2.94646907 2.98876367 2.99383138 2.89481589\n",
      " 2.94085901 3.14451532 2.98435236 2.85225662 2.98550711 2.86659652\n",
      " 3.07723189 2.95994133 2.98974475 3.15602807 3.14371475 2.91861611\n",
      " 2.9941025  3.08762471 3.00462668 3.15759124 3.27960854 2.9618175\n",
      " 3.06458289 3.03029001 2.9416385  3.12974837 3.04854095 3.05961898\n",
      " 2.93517008 3.10185562 2.88993105 2.9964024 ]\n"
     ]
    }
   ],
   "source": [
    "print(feature_selector_cv.n_features_)\n",
    "cv_grid_rmse = np.sqrt(-feature_selector_cv.grid_scores_)\n",
    "print(cv_grid_rmse)"
   ]
  },
  {
   "cell_type": "markdown",
   "metadata": {},
   "source": [
    "* feature selection has given out 12 features. Lets print them "
   ]
  },
  {
   "cell_type": "code",
   "execution_count": 41,
   "metadata": {},
   "outputs": [
    {
     "name": "stdout",
     "output_type": "stream",
     "text": [
      "['wheel-base', 'length', 'height', 'curb-weight', 'num-of-cylinders', 'engine-size', 'bore', 'compression-ratio', 'horsepower', 'price', 'mpfi', 'fwd']\n"
     ]
    }
   ],
   "source": [
    "feature_names = (X.columns)\n",
    "selected_features = feature_names[feature_selector_cv.support_].tolist()\n",
    "print( selected_features)"
   ]
  },
  {
   "cell_type": "markdown",
   "metadata": {},
   "source": [
    "## 5. Modeling"
   ]
  },
  {
   "cell_type": "code",
   "execution_count": 42,
   "metadata": {},
   "outputs": [],
   "source": [
    "X =  X[selected_features]"
   ]
  },
  {
   "cell_type": "code",
   "execution_count": 43,
   "metadata": {},
   "outputs": [],
   "source": [
    "# split data into train test\n",
    "def trainingTesting(X, y):\n",
    "    X_train, X_test, y_train, y_test = train_test_split(X, y, test_size = 0.10,random_state=10)\n",
    "    return X_train, X_test, y_train, y_test\n",
    "\n",
    "X_train, X_test, y_train, y_test = trainingTesting(X, y)"
   ]
  },
  {
   "cell_type": "code",
   "execution_count": 44,
   "metadata": {},
   "outputs": [
    {
     "data": {
      "text/plain": [
       "(184, 12)"
      ]
     },
     "execution_count": 44,
     "metadata": {},
     "output_type": "execute_result"
    }
   ],
   "source": [
    "X_train.shape"
   ]
  },
  {
   "cell_type": "code",
   "execution_count": 45,
   "metadata": {},
   "outputs": [
    {
     "data": {
      "text/html": [
       "<div>\n",
       "<style>\n",
       "    .dataframe thead tr:only-child th {\n",
       "        text-align: right;\n",
       "    }\n",
       "\n",
       "    .dataframe thead th {\n",
       "        text-align: left;\n",
       "    }\n",
       "\n",
       "    .dataframe tbody tr th {\n",
       "        vertical-align: top;\n",
       "    }\n",
       "</style>\n",
       "<table border=\"1\" class=\"dataframe\">\n",
       "  <thead>\n",
       "    <tr style=\"text-align: right;\">\n",
       "      <th></th>\n",
       "      <th>wheel-base</th>\n",
       "      <th>length</th>\n",
       "      <th>height</th>\n",
       "      <th>curb-weight</th>\n",
       "      <th>num-of-cylinders</th>\n",
       "      <th>engine-size</th>\n",
       "      <th>bore</th>\n",
       "      <th>compression-ratio</th>\n",
       "      <th>horsepower</th>\n",
       "      <th>price</th>\n",
       "      <th>mpfi</th>\n",
       "      <th>fwd</th>\n",
       "    </tr>\n",
       "  </thead>\n",
       "  <tbody>\n",
       "    <tr>\n",
       "      <th>10</th>\n",
       "      <td>101.2</td>\n",
       "      <td>176.8</td>\n",
       "      <td>54.3</td>\n",
       "      <td>2395</td>\n",
       "      <td>4</td>\n",
       "      <td>108</td>\n",
       "      <td>3.50</td>\n",
       "      <td>8.8</td>\n",
       "      <td>101</td>\n",
       "      <td>16430</td>\n",
       "      <td>1</td>\n",
       "      <td>0</td>\n",
       "    </tr>\n",
       "    <tr>\n",
       "      <th>167</th>\n",
       "      <td>98.4</td>\n",
       "      <td>176.2</td>\n",
       "      <td>52.0</td>\n",
       "      <td>2540</td>\n",
       "      <td>4</td>\n",
       "      <td>146</td>\n",
       "      <td>3.62</td>\n",
       "      <td>9.3</td>\n",
       "      <td>116</td>\n",
       "      <td>8449</td>\n",
       "      <td>1</td>\n",
       "      <td>0</td>\n",
       "    </tr>\n",
       "    <tr>\n",
       "      <th>178</th>\n",
       "      <td>102.9</td>\n",
       "      <td>183.5</td>\n",
       "      <td>52.0</td>\n",
       "      <td>2976</td>\n",
       "      <td>6</td>\n",
       "      <td>171</td>\n",
       "      <td>3.27</td>\n",
       "      <td>9.3</td>\n",
       "      <td>161</td>\n",
       "      <td>16558</td>\n",
       "      <td>1</td>\n",
       "      <td>0</td>\n",
       "    </tr>\n",
       "    <tr>\n",
       "      <th>6</th>\n",
       "      <td>105.8</td>\n",
       "      <td>192.7</td>\n",
       "      <td>55.7</td>\n",
       "      <td>2844</td>\n",
       "      <td>5</td>\n",
       "      <td>136</td>\n",
       "      <td>3.19</td>\n",
       "      <td>8.5</td>\n",
       "      <td>110</td>\n",
       "      <td>17710</td>\n",
       "      <td>1</td>\n",
       "      <td>1</td>\n",
       "    </tr>\n",
       "    <tr>\n",
       "      <th>75</th>\n",
       "      <td>102.7</td>\n",
       "      <td>178.4</td>\n",
       "      <td>54.8</td>\n",
       "      <td>2910</td>\n",
       "      <td>4</td>\n",
       "      <td>140</td>\n",
       "      <td>3.78</td>\n",
       "      <td>8.0</td>\n",
       "      <td>175</td>\n",
       "      <td>16503</td>\n",
       "      <td>1</td>\n",
       "      <td>0</td>\n",
       "    </tr>\n",
       "  </tbody>\n",
       "</table>\n",
       "</div>"
      ],
      "text/plain": [
       "     wheel-base  length  height  curb-weight  num-of-cylinders  engine-size  \\\n",
       "10        101.2   176.8    54.3         2395                 4          108   \n",
       "167        98.4   176.2    52.0         2540                 4          146   \n",
       "178       102.9   183.5    52.0         2976                 6          171   \n",
       "6         105.8   192.7    55.7         2844                 5          136   \n",
       "75        102.7   178.4    54.8         2910                 4          140   \n",
       "\n",
       "     bore  compression-ratio  horsepower  price  mpfi  fwd  \n",
       "10   3.50                8.8         101  16430     1    0  \n",
       "167  3.62                9.3         116   8449     1    0  \n",
       "178  3.27                9.3         161  16558     1    0  \n",
       "6    3.19                8.5         110  17710     1    1  \n",
       "75   3.78                8.0         175  16503     1    0  "
      ]
     },
     "execution_count": 45,
     "metadata": {},
     "output_type": "execute_result"
    }
   ],
   "source": [
    "X_train.head()"
   ]
  },
  {
   "cell_type": "code",
   "execution_count": 46,
   "metadata": {},
   "outputs": [],
   "source": [
    "# helper function \n",
    "def rmsle(y, y_pred):\n",
    "    return np.sqrt(mean_squared_error(y, y_pred))"
   ]
  },
  {
   "cell_type": "code",
   "execution_count": 47,
   "metadata": {},
   "outputs": [],
   "source": [
    "from sklearn.ensemble import RandomForestRegressor,  GradientBoostingRegressor"
   ]
  },
  {
   "cell_type": "markdown",
   "metadata": {},
   "source": [
    "### We will use  GridSearchCV to select hyper parameters using cross validation "
   ]
  },
  {
   "cell_type": "code",
   "execution_count": 48,
   "metadata": {},
   "outputs": [
    {
     "name": "stdout",
     "output_type": "stream",
     "text": [
      "Fitting 3 folds for each of 27 candidates, totalling 81 fits\n"
     ]
    },
    {
     "name": "stderr",
     "output_type": "stream",
     "text": [
      "[Parallel(n_jobs=-1)]: Done  33 tasks      | elapsed:   11.1s\n",
      "[Parallel(n_jobs=-1)]: Done  81 out of  81 | elapsed:   16.7s finished\n",
      "c:\\users\\h213561\\appdata\\local\\continuum\\anaconda3\\lib\\site-packages\\sklearn\\utils\\deprecation.py:122: FutureWarning: You are accessing a training score ('mean_train_score'), which will not be available by default any more in 0.21. If you need training scores, please set return_train_score=True\n",
      "  warnings.warn(*warn_args, **warn_kwargs)\n",
      "c:\\users\\h213561\\appdata\\local\\continuum\\anaconda3\\lib\\site-packages\\sklearn\\utils\\deprecation.py:122: FutureWarning: You are accessing a training score ('split0_train_score'), which will not be available by default any more in 0.21. If you need training scores, please set return_train_score=True\n",
      "  warnings.warn(*warn_args, **warn_kwargs)\n",
      "c:\\users\\h213561\\appdata\\local\\continuum\\anaconda3\\lib\\site-packages\\sklearn\\utils\\deprecation.py:122: FutureWarning: You are accessing a training score ('split1_train_score'), which will not be available by default any more in 0.21. If you need training scores, please set return_train_score=True\n",
      "  warnings.warn(*warn_args, **warn_kwargs)\n",
      "c:\\users\\h213561\\appdata\\local\\continuum\\anaconda3\\lib\\site-packages\\sklearn\\utils\\deprecation.py:122: FutureWarning: You are accessing a training score ('split2_train_score'), which will not be available by default any more in 0.21. If you need training scores, please set return_train_score=True\n",
      "  warnings.warn(*warn_args, **warn_kwargs)\n",
      "c:\\users\\h213561\\appdata\\local\\continuum\\anaconda3\\lib\\site-packages\\sklearn\\utils\\deprecation.py:122: FutureWarning: You are accessing a training score ('std_train_score'), which will not be available by default any more in 0.21. If you need training scores, please set return_train_score=True\n",
      "  warnings.warn(*warn_args, **warn_kwargs)\n"
     ]
    }
   ],
   "source": [
    "rf_param_grid = {\n",
    "    'bootstrap': [True],\n",
    "    'max_depth': [5, 10, 30],\n",
    "    'max_features': [3,4,5],\n",
    "    'n_estimators': [100, 200, 300]\n",
    "}\n",
    "# Create a based model\n",
    "rf = RandomForestRegressor()\n",
    "# Instantiate the grid search model\n",
    "grid_rf = GridSearchCV(estimator = rf, param_grid = rf_param_grid,  scoring='neg_mean_squared_error',\n",
    "                          cv = 3, n_jobs = -1, verbose = 2)\n",
    "grid_rf.fit(X_train, y_train)\n",
    "rfResultDF = pd.DataFrame(grid_rf.cv_results_)[['mean_test_score', 'params']]"
   ]
  },
  {
   "cell_type": "code",
   "execution_count": 49,
   "metadata": {},
   "outputs": [
    {
     "data": {
      "text/html": [
       "<div>\n",
       "<style>\n",
       "    .dataframe thead tr:only-child th {\n",
       "        text-align: right;\n",
       "    }\n",
       "\n",
       "    .dataframe thead th {\n",
       "        text-align: left;\n",
       "    }\n",
       "\n",
       "    .dataframe tbody tr th {\n",
       "        vertical-align: top;\n",
       "    }\n",
       "</style>\n",
       "<table border=\"1\" class=\"dataframe\">\n",
       "  <thead>\n",
       "    <tr style=\"text-align: right;\">\n",
       "      <th></th>\n",
       "      <th>mean_test_score</th>\n",
       "      <th>params</th>\n",
       "    </tr>\n",
       "  </thead>\n",
       "  <tbody>\n",
       "    <tr>\n",
       "      <th>0</th>\n",
       "      <td>-6.710815</td>\n",
       "      <td>{'bootstrap': True, 'max_depth': 5, 'max_featu...</td>\n",
       "    </tr>\n",
       "    <tr>\n",
       "      <th>1</th>\n",
       "      <td>-6.829864</td>\n",
       "      <td>{'bootstrap': True, 'max_depth': 5, 'max_featu...</td>\n",
       "    </tr>\n",
       "    <tr>\n",
       "      <th>2</th>\n",
       "      <td>-6.679861</td>\n",
       "      <td>{'bootstrap': True, 'max_depth': 5, 'max_featu...</td>\n",
       "    </tr>\n",
       "    <tr>\n",
       "      <th>3</th>\n",
       "      <td>-6.594353</td>\n",
       "      <td>{'bootstrap': True, 'max_depth': 5, 'max_featu...</td>\n",
       "    </tr>\n",
       "    <tr>\n",
       "      <th>4</th>\n",
       "      <td>-6.507683</td>\n",
       "      <td>{'bootstrap': True, 'max_depth': 5, 'max_featu...</td>\n",
       "    </tr>\n",
       "    <tr>\n",
       "      <th>5</th>\n",
       "      <td>-6.493115</td>\n",
       "      <td>{'bootstrap': True, 'max_depth': 5, 'max_featu...</td>\n",
       "    </tr>\n",
       "    <tr>\n",
       "      <th>6</th>\n",
       "      <td>-6.468608</td>\n",
       "      <td>{'bootstrap': True, 'max_depth': 5, 'max_featu...</td>\n",
       "    </tr>\n",
       "    <tr>\n",
       "      <th>7</th>\n",
       "      <td>-6.234090</td>\n",
       "      <td>{'bootstrap': True, 'max_depth': 5, 'max_featu...</td>\n",
       "    </tr>\n",
       "    <tr>\n",
       "      <th>8</th>\n",
       "      <td>-6.358154</td>\n",
       "      <td>{'bootstrap': True, 'max_depth': 5, 'max_featu...</td>\n",
       "    </tr>\n",
       "    <tr>\n",
       "      <th>9</th>\n",
       "      <td>-5.853019</td>\n",
       "      <td>{'bootstrap': True, 'max_depth': 10, 'max_feat...</td>\n",
       "    </tr>\n",
       "    <tr>\n",
       "      <th>10</th>\n",
       "      <td>-6.067381</td>\n",
       "      <td>{'bootstrap': True, 'max_depth': 10, 'max_feat...</td>\n",
       "    </tr>\n",
       "    <tr>\n",
       "      <th>11</th>\n",
       "      <td>-6.127676</td>\n",
       "      <td>{'bootstrap': True, 'max_depth': 10, 'max_feat...</td>\n",
       "    </tr>\n",
       "    <tr>\n",
       "      <th>12</th>\n",
       "      <td>-5.573297</td>\n",
       "      <td>{'bootstrap': True, 'max_depth': 10, 'max_feat...</td>\n",
       "    </tr>\n",
       "    <tr>\n",
       "      <th>13</th>\n",
       "      <td>-6.040439</td>\n",
       "      <td>{'bootstrap': True, 'max_depth': 10, 'max_feat...</td>\n",
       "    </tr>\n",
       "    <tr>\n",
       "      <th>14</th>\n",
       "      <td>-5.801024</td>\n",
       "      <td>{'bootstrap': True, 'max_depth': 10, 'max_feat...</td>\n",
       "    </tr>\n",
       "    <tr>\n",
       "      <th>15</th>\n",
       "      <td>-5.733434</td>\n",
       "      <td>{'bootstrap': True, 'max_depth': 10, 'max_feat...</td>\n",
       "    </tr>\n",
       "    <tr>\n",
       "      <th>16</th>\n",
       "      <td>-6.014855</td>\n",
       "      <td>{'bootstrap': True, 'max_depth': 10, 'max_feat...</td>\n",
       "    </tr>\n",
       "    <tr>\n",
       "      <th>17</th>\n",
       "      <td>-5.724879</td>\n",
       "      <td>{'bootstrap': True, 'max_depth': 10, 'max_feat...</td>\n",
       "    </tr>\n",
       "    <tr>\n",
       "      <th>18</th>\n",
       "      <td>-6.090359</td>\n",
       "      <td>{'bootstrap': True, 'max_depth': 30, 'max_feat...</td>\n",
       "    </tr>\n",
       "    <tr>\n",
       "      <th>19</th>\n",
       "      <td>-6.015043</td>\n",
       "      <td>{'bootstrap': True, 'max_depth': 30, 'max_feat...</td>\n",
       "    </tr>\n",
       "    <tr>\n",
       "      <th>20</th>\n",
       "      <td>-6.286898</td>\n",
       "      <td>{'bootstrap': True, 'max_depth': 30, 'max_feat...</td>\n",
       "    </tr>\n",
       "    <tr>\n",
       "      <th>21</th>\n",
       "      <td>-6.173609</td>\n",
       "      <td>{'bootstrap': True, 'max_depth': 30, 'max_feat...</td>\n",
       "    </tr>\n",
       "    <tr>\n",
       "      <th>22</th>\n",
       "      <td>-5.967551</td>\n",
       "      <td>{'bootstrap': True, 'max_depth': 30, 'max_feat...</td>\n",
       "    </tr>\n",
       "    <tr>\n",
       "      <th>23</th>\n",
       "      <td>-6.003156</td>\n",
       "      <td>{'bootstrap': True, 'max_depth': 30, 'max_feat...</td>\n",
       "    </tr>\n",
       "    <tr>\n",
       "      <th>24</th>\n",
       "      <td>-5.631159</td>\n",
       "      <td>{'bootstrap': True, 'max_depth': 30, 'max_feat...</td>\n",
       "    </tr>\n",
       "    <tr>\n",
       "      <th>25</th>\n",
       "      <td>-5.810845</td>\n",
       "      <td>{'bootstrap': True, 'max_depth': 30, 'max_feat...</td>\n",
       "    </tr>\n",
       "    <tr>\n",
       "      <th>26</th>\n",
       "      <td>-5.812581</td>\n",
       "      <td>{'bootstrap': True, 'max_depth': 30, 'max_feat...</td>\n",
       "    </tr>\n",
       "  </tbody>\n",
       "</table>\n",
       "</div>"
      ],
      "text/plain": [
       "    mean_test_score                                             params\n",
       "0         -6.710815  {'bootstrap': True, 'max_depth': 5, 'max_featu...\n",
       "1         -6.829864  {'bootstrap': True, 'max_depth': 5, 'max_featu...\n",
       "2         -6.679861  {'bootstrap': True, 'max_depth': 5, 'max_featu...\n",
       "3         -6.594353  {'bootstrap': True, 'max_depth': 5, 'max_featu...\n",
       "4         -6.507683  {'bootstrap': True, 'max_depth': 5, 'max_featu...\n",
       "5         -6.493115  {'bootstrap': True, 'max_depth': 5, 'max_featu...\n",
       "6         -6.468608  {'bootstrap': True, 'max_depth': 5, 'max_featu...\n",
       "7         -6.234090  {'bootstrap': True, 'max_depth': 5, 'max_featu...\n",
       "8         -6.358154  {'bootstrap': True, 'max_depth': 5, 'max_featu...\n",
       "9         -5.853019  {'bootstrap': True, 'max_depth': 10, 'max_feat...\n",
       "10        -6.067381  {'bootstrap': True, 'max_depth': 10, 'max_feat...\n",
       "11        -6.127676  {'bootstrap': True, 'max_depth': 10, 'max_feat...\n",
       "12        -5.573297  {'bootstrap': True, 'max_depth': 10, 'max_feat...\n",
       "13        -6.040439  {'bootstrap': True, 'max_depth': 10, 'max_feat...\n",
       "14        -5.801024  {'bootstrap': True, 'max_depth': 10, 'max_feat...\n",
       "15        -5.733434  {'bootstrap': True, 'max_depth': 10, 'max_feat...\n",
       "16        -6.014855  {'bootstrap': True, 'max_depth': 10, 'max_feat...\n",
       "17        -5.724879  {'bootstrap': True, 'max_depth': 10, 'max_feat...\n",
       "18        -6.090359  {'bootstrap': True, 'max_depth': 30, 'max_feat...\n",
       "19        -6.015043  {'bootstrap': True, 'max_depth': 30, 'max_feat...\n",
       "20        -6.286898  {'bootstrap': True, 'max_depth': 30, 'max_feat...\n",
       "21        -6.173609  {'bootstrap': True, 'max_depth': 30, 'max_feat...\n",
       "22        -5.967551  {'bootstrap': True, 'max_depth': 30, 'max_feat...\n",
       "23        -6.003156  {'bootstrap': True, 'max_depth': 30, 'max_feat...\n",
       "24        -5.631159  {'bootstrap': True, 'max_depth': 30, 'max_feat...\n",
       "25        -5.810845  {'bootstrap': True, 'max_depth': 30, 'max_feat...\n",
       "26        -5.812581  {'bootstrap': True, 'max_depth': 30, 'max_feat..."
      ]
     },
     "execution_count": 49,
     "metadata": {},
     "output_type": "execute_result"
    }
   ],
   "source": [
    "rfResultDF"
   ]
  },
  {
   "cell_type": "code",
   "execution_count": 50,
   "metadata": {},
   "outputs": [
    {
     "data": {
      "text/plain": [
       "{'bootstrap': True, 'max_depth': 10, 'max_features': 4, 'n_estimators': 100}"
      ]
     },
     "execution_count": 50,
     "metadata": {},
     "output_type": "execute_result"
    }
   ],
   "source": [
    "grid_rf.best_params_"
   ]
  },
  {
   "cell_type": "code",
   "execution_count": 51,
   "metadata": {},
   "outputs": [
    {
     "name": "stdout",
     "output_type": "stream",
     "text": [
      "Random forest Training RMSE : 0.7542145790569792\n",
      "Random forest Testing RMSE : 2.364833625707942\n",
      "Random forest Testing R Squared : 88.38%\n"
     ]
    }
   ],
   "source": [
    "model_rf = RandomForestRegressor(n_estimators=200,max_depth = 10, max_features = 5) \n",
    "model_rf.fit(X_train, y_train)\n",
    "rfTrainPred = model_rf.predict(X_train)\n",
    "rfTrainError  = rmsle(y_train,rfTrainPred)\n",
    "print(\"Random forest Training RMSE : {0}\".format(rfTrainError))\n",
    "\n",
    "rfTestPred = model_rf.predict(X_test)\n",
    "rfTestError =  rmsle(y_test,rfTestPred)\n",
    "print(\"Random forest Testing RMSE : {0}\".format(rfTestError))\n",
    "print(\"Random forest Testing R Squared : {0}\".format( str(round(100 * r2_score(y_test, rfTestPred), 2)) + \"%\"))"
   ]
  },
  {
   "cell_type": "code",
   "execution_count": 52,
   "metadata": {},
   "outputs": [
    {
     "name": "stdout",
     "output_type": "stream",
     "text": [
      "Linear regression Testing R Squared : 74.07% \n",
      "Linear regression Testing RMSE: 12.49\n"
     ]
    }
   ],
   "source": [
    "model_linear = linear_model.LinearRegression()\n",
    "model_linear.fit(X_train, y_train)\n",
    "linearTestPred = model_linear.predict(X_test)\n",
    "print(\"Linear regression Testing R Squared : {0} \".format( str(round(100 * r2_score(y_test, linearTestPred), 2)) + \"%\"))\n",
    "print(\"Linear regression Testing RMSE: {0}\".format(str(round(mean_squared_error(y_test, linearTestPred), 2))))"
   ]
  },
  {
   "cell_type": "code",
   "execution_count": 53,
   "metadata": {},
   "outputs": [
    {
     "name": "stdout",
     "output_type": "stream",
     "text": [
      "[ 4.04269288e-02 -9.78318944e-02  1.27390181e-01 -7.92063417e-03\n",
      "  1.00030411e-01  4.95978105e-02 -1.42277447e+00  5.11359037e-01\n",
      " -6.69226517e-02 -2.12328871e-05 -2.26287986e-02  3.97706783e-01]\n"
     ]
    }
   ],
   "source": [
    "print( model_linear.coef_)"
   ]
  },
  {
   "cell_type": "code",
   "execution_count": null,
   "metadata": {},
   "outputs": [],
   "source": []
  },
  {
   "cell_type": "markdown",
   "metadata": {},
   "source": [
    "### Question 4 (60 Points)\n",
    "    A. Explain each and every of your design choices (e.g., preprocessing, model selection, hyper parameters, evaluation criteria). Compare and contrast your choices with alternative methodologies. \n",
    "\n",
    "    B. Describe how you would improve the model in Question 3 if you had more time.\n"
   ]
  },
  {
   "cell_type": "markdown",
   "metadata": {},
   "source": [
    "### B. Describe how you would improve the model in Question 3 if you had more time.\n",
    "\n"
   ]
  },
  {
   "cell_type": "markdown",
   "metadata": {},
   "source": [
    "* The model is already giving good accuracy close to 90%. We can further improve the model by \n",
    "        1. Trying more complex model like XGboost, GBM, Neural nets\n",
    "        2. Ensembling many models and predicting the outcome would usually improve final result.\n",
    "        3. Adding more data. Try get more data from internet. We can generate new data using existing using SMOTE. "
   ]
  },
  {
   "cell_type": "markdown",
   "metadata": {},
   "source": [
    "* I would love to work on car similarity recommendation. \n",
    "* Brief Idea:\n",
    "           1. Represent  the car object in certain dimension(n-dimesion) depending on features.\n",
    "           2. Select a distance measure to find similar car to the query/given car.\n",
    "           3. As we have mixture of variables(numeric+categorical), we can make use of **GOWER Distance**"
   ]
  }
 ],
 "metadata": {
  "kernelspec": {
   "display_name": "Python 3",
   "language": "python",
   "name": "python3"
  },
  "language_info": {
   "codemirror_mode": {
    "name": "ipython",
    "version": 3
   },
   "file_extension": ".py",
   "mimetype": "text/x-python",
   "name": "python",
   "nbconvert_exporter": "python",
   "pygments_lexer": "ipython3",
   "version": "3.6.3"
  }
 },
 "nbformat": 4,
 "nbformat_minor": 2
}
